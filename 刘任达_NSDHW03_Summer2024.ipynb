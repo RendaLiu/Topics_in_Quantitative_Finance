{
 "cells": [
  {
   "cell_type": "markdown",
   "metadata": {},
   "source": [
    "# Topics in Quantitative Finance - Homework 3\n",
    "\n",
    "Assigned: Friday, July 26, 2024.\n",
    "Due: **Monday, July 29, 2024** by 1PM. \n",
    "\n",
    "Late homework **will not be accepted**.\n",
    "\n",
    "$$\n",
    "\\newcommand{\\supp}{\\mathrm{supp}}\n",
    "\\newcommand{\\E}{\\mathbb{E} }\n",
    "\\newcommand{\\Eof}[1]{\\mathbb{E}\\left[ #1 \\right]}\n",
    "\\def\\Cov{{ \\mbox{Cov} }}\n",
    "\\def\\Var{{ \\mbox{Var} }}\n",
    "\\newcommand{\\1}{\\mathbf{1} }\n",
    "\\newcommand{\\PP}{\\mathbb{P} }\n",
    "\\newcommand{\\Pof}[1]{\\mathbb{P}\\left[ #1 \\right]}\n",
    "%\\newcommand{\\Pr}{\\mathrm{Pr} }\n",
    "\\newcommand{\\QQ}{\\mathbb{Q} }\n",
    "\\newcommand{\\RR}{\\mathbb{R} }\n",
    "\\newcommand{\\DD}{\\mathbb{D} }\n",
    "\\newcommand{\\HH}{\\mathbb{H} }\n",
    "\\newcommand{\\spn}{\\mathrm{span} }\n",
    "\\newcommand{\\cov}{\\mathrm{cov} }\n",
    "\\newcommand{\\sgn}{\\mathrm{sgn} }\n",
    "\\newcommand{\\HS}{\\mathcal{L}_{\\mathrm{HS}} }\n",
    "%\\newcommand{\\HS}{\\mathrm{HS} }\n",
    "\\newcommand{\\trace}{\\mathrm{trace} }\n",
    "\\newcommand{\\LL}{\\mathcal{L} }\n",
    "%\\newcommand{\\LL}{\\mathrm{L} }\n",
    "\\newcommand{\\s}{\\mathcal{S} }\n",
    "\\newcommand{\\ee}{\\mathcal{E} }\n",
    "\\newcommand{\\ff}{\\mathcal{F} }\n",
    "\\newcommand{\\hh}{\\mathcal{H} }\n",
    "\\newcommand{\\bb}{\\mathcal{B} }\n",
    "\\newcommand{\\dd}{\\mathcal{D} }\n",
    "\\newcommand{\\g}{\\mathcal{G} }\n",
    "\\newcommand{\\p}{\\partial}\n",
    "\\newcommand{\\half}{\\frac{1}{2} }\n",
    "\\newcommand{\\T}{\\mathcal{T} }\n",
    "\\newcommand{\\bi}{\\begin{itemize}}\n",
    "\\newcommand{\\ei}{\\end{itemize}}\n",
    "\\newcommand{\\beq}{\\begin{equation}}\n",
    "\\newcommand{\\eeq}{\\end{equation}}\n",
    "\\newcommand{\\beas}{\\begin{eqnarray*}}\n",
    "\\newcommand{\\eeas}{\\end{eqnarray*}}\n",
    "\\newcommand{\\cO}{\\mathcal{O}}\n",
    "\\newcommand{\\cF}{\\mathcal{F}}\n",
    "\\newcommand{\\cL}{\\mathcal{L}}\n",
    "\\newcommand{\\BS}{\\text{BS}}\n",
    "$$"
   ]
  },
  {
   "cell_type": "markdown",
   "metadata": {},
   "source": [
    "<font color = \"red\">Homework is to be done by each student individually.  To receive full credit, you must email a completed copy of this Jupyter notebook to TA 郭鵬 at [g.p@pku.edu.cn](mailto:g.p@pku.edu.cn) by the due date and time.  All codes must run correctly and solutions must be written up neatly in Markdown/LaTeX format. If you encounter problems with Jupyter notebook, please contact TA [郭鵬](mailto:g.p@pku.edu.cn) or [丁宏駿](dinghongjun@stu.pku.edu.cn)."
   ]
  },
  {
   "cell_type": "markdown",
   "metadata": {},
   "source": [
    "## Name: <font color=blue>刘任达</font>"
   ]
  },
  {
   "cell_type": "markdown",
   "metadata": {},
   "source": [
    "## Delta and delta-gamma hedging"
   ]
  },
  {
   "cell_type": "markdown",
   "metadata": {},
   "source": [
    "### 1. (25 points)\n",
    "\n",
    "A portfolio consists of \n",
    "- a long position in 500 shares of a nondividend paying stock with spot price $\\$20$,\n",
    "- a short position in 1000 puts struck at $\\$25$ and expiring in 3 months on the stock, assumed lognormally distributed with $30\\%$ volatility, \n",
    "- $\\$10,000$ in money account with annual interest rate $4\\%$ continuously compounding.\n",
    "\n",
    "Answer the following questions.\n",
    "\n",
    "* (a) What is the value of the portfolio?\n",
    "* (b) How do you adjust the holdings of stock shares and cash amounts in the portfolio in order to make it delta neutral without changing the postion in puts?\n",
    "* (c) How do you adjust the portfolio in order to make it delta-gamma neutral by adding position in calls struck at $\\$30$? Position in puts cannot be altered. \n",
    "* (d) A month later the stock goes up to $\\$24$. Determine the value of the delta-neuralized portfolio in (b). \n",
    "* (e) How do you rebalance the portfolio in (d) so it remains delta neutral?    \n",
    "\n",
    "\n",
    "You may consider using the code provided in the cell below for the calculation of deltas and gammas of call and put. "
   ]
  },
  {
   "cell_type": "code",
   "execution_count": 1,
   "metadata": {},
   "outputs": [],
   "source": [
    "# as always, import required modules and functions\n",
    "import numpy as np\n",
    "from numpy import sqrt, log, exp\n",
    "import matplotlib.pyplot as plt\n",
    "import scipy.stats as ss\n",
    "from scipy.stats import norm\n",
    "import seaborn as sns"
   ]
  },
  {
   "cell_type": "code",
   "execution_count": 3,
   "metadata": {},
   "outputs": [],
   "source": [
    "# Black-Scholes formulas\n",
    "# call\n",
    "def bs_call(s, K, sigma, t, r=0, d=0):\n",
    "    d1 = (log(s/K) + (r - d)*t)/(sigma*sqrt(t)) + sigma*sqrt(t)/2\n",
    "    d2 = d1 - sigma*sqrt(t)\n",
    "    \n",
    "    c = s*exp(-d*t)*norm.cdf(d1) - K*exp(-r*t)*norm.cdf(d2)\n",
    "    delta = exp(-d*t)*norm.cdf(d1)\n",
    "    gamma = norm.pdf(d1)/s/sigma/sqrt(t)\n",
    "    \n",
    "    return {'c': c, 'delta': delta, 'gamma': gamma}\n",
    "\n",
    "#put\n",
    "def bs_put(s, K, sigma, t, r=0, d=0):\n",
    "    d1 = (log(s/K) + (r - d)*t)/(sigma*sqrt(t)) + sigma*sqrt(t)/2\n",
    "    d2 = d1 - sigma*sqrt(t)\n",
    "    \n",
    "    p = K*exp(-r*t)*norm.cdf(-d2) - s*exp(-d*t)*norm.cdf(-d1)\n",
    "    delta = -exp(-d*t)*norm.cdf(-d1)\n",
    "    gamma = norm.pdf(d1)/s/sigma/sqrt(t)\n",
    "    \n",
    "    return {'p': p, 'delta': delta, 'gamma': gamma}"
   ]
  },
  {
   "cell_type": "markdown",
   "metadata": {},
   "source": [
    "## <font color=blue> Solution 1. </font>\n",
    "#### <font color=blue>Problem (1a)</font>"
   ]
  },
  {
   "cell_type": "code",
   "execution_count": 28,
   "metadata": {},
   "outputs": [
    {
     "name": "stdout",
     "output_type": "stream",
     "text": [
      "25132.151851511455\n"
     ]
    }
   ],
   "source": [
    "# (1a) \n",
    "s = 20\n",
    "K, sig, t = 25, 0.3, 1/4\n",
    "r = 0.04\n",
    "x, y, B = 500, -1000, 20000\n",
    "\n",
    "p, delta_p, gamma_p = bs_put(s, K, sig, t, r).values()\n",
    "\n",
    "# The value of the portfolio is the value of all three combined\n",
    "\n",
    "value = s*x + p*y + B\n",
    "print(value)\n",
    "#print(delta_p)"
   ]
  },
  {
   "cell_type": "markdown",
   "metadata": {},
   "source": [
    "#### <font color=blue>Problem (1b)</font>\n",
    "We know the portfolio value and delta of the portfolio\n",
    "$$\n",
    "\\Pi = x S + y P + B \\implies \\Delta_{\\Pi} = x + y \\cdot \\Delta_p\n",
    "$$\n",
    "\n",
    "To make the portfolio delta neutral, $\\Delta_\\Pi$ must be 0 after adjustment, so we need to sell $\\Delta_\\Pi$ amount of stock to even out the existing $\\Delta_\\Pi$:\n",
    "\n",
    "$$\n",
    "\\Pi' = x S + y \\cdot \\Delta_P + B + (- \\Delta_\\Pi \\cdot S  + \\Delta_\\Pi S) = (x - \\Delta_\\Pi)\\cdot S + y \\cdot \\Delta_P + (\\Delta_\\Pi S + B) = x'S+y P + B'\n",
    "$$\n",
    "\n",
    "In which $\\Delta_\\Pi$, the new $x', B'$ respectively equal to: "
   ]
  },
  {
   "cell_type": "code",
   "execution_count": 24,
   "metadata": {},
   "outputs": [
    {
     "name": "stdout",
     "output_type": "stream",
     "text": [
      "1410.8418091517815\n",
      "-910.8418091517815\n",
      "48216.83618303563\n"
     ]
    }
   ],
   "source": [
    "# (1b)\n",
    "# delta per share of stock\n",
    "delt = x + y * delta_p\n",
    "print(delt)\n",
    "x_0 = x - delt\n",
    "print(x - delt)\n",
    "B_0 = B + s*delt\n",
    "print(B + s*delt)"
   ]
  },
  {
   "cell_type": "markdown",
   "metadata": {},
   "source": [
    "#### <font color=blue>Problem (1c)</font>\n",
    "\n",
    "Gamma of portfolio $\\Pi$ can be written as\n",
    "\n",
    "$$\n",
    "  \\Gamma_{\\Pi}= x \\Gamma_S + y \\Gamma_P + B \\Gamma_B = y \\Gamma_P.\n",
    "$$"
   ]
  },
  {
   "cell_type": "code",
   "execution_count": 13,
   "metadata": {},
   "outputs": [
    {
     "name": "stdout",
     "output_type": "stream",
     "text": [
      "-53.75326032580033\n"
     ]
    }
   ],
   "source": [
    "# gamma of the portfolio\n",
    "print(y*gamma_p)"
   ]
  },
  {
   "cell_type": "markdown",
   "metadata": {},
   "source": [
    "We need to add into the portfolio an instrument that has nonzero gamma, add the wanted call option $C$ to construct a new portfolio.\n",
    "\n",
    "$$\n",
    "\\Pi_1 = \\Pi + z\\cdot C = x \\cdot S + y \\cdot P + + z \\cdot C + (B - zC_0) \\implies \\Gamma_{\\Pi_1} = y \\Gamma_P + z \\Gamma_C\n",
    "$$\n",
    "\n",
    "$\\displaystyle \\Gamma_{\\Pi_1} = 0 \\implies z = - \\frac{y\\Gamma_P}{\\Gamma_C}$\n",
    "\n",
    "Now we calculate $z$:"
   ]
  },
  {
   "cell_type": "code",
   "execution_count": 16,
   "metadata": {},
   "outputs": [
    {
     "name": "stdout",
     "output_type": "stream",
     "text": [
      "10747.488204943242\n"
     ]
    }
   ],
   "source": [
    "# (1c)\n",
    "c, delta_c, gamma_c = bs_call(s, 30, sig, 1/4, r).values()\n",
    "z = -y*gamma_p/gamma_c\n",
    "print(z)"
   ]
  },
  {
   "cell_type": "markdown",
   "metadata": {},
   "source": [
    "We then apply the delta-neutral strategy:\n",
    "\n",
    "$$\n",
    "\\Delta_{\\Pi_1} = x + y \\Delta_P + z \\Delta_C = \\Delta_\\Pi + z \\cdot \\Delta_C\n",
    "$$\n",
    "\n",
    "and construct the delta-neutral portfolio $\\Pi_2$:\n",
    "\n",
    "$$\n",
    "\\Delta_{\\Pi_2} = (x - \\Delta_{\\Pi_1}) \\cdot S + y \\cdot P + z \\cdot C + (B - zC_0 + \\Delta_{\\Pi_1}S_0) = x_2 S + yP + B_2\n",
    "$$\n",
    "\n",
    "Here $\\Delta_{\\Pi_1},\\ x_2,\\ B_2$ respectively equal to:"
   ]
  },
  {
   "cell_type": "code",
   "execution_count": 20,
   "metadata": {},
   "outputs": [
    {
     "name": "stdout",
     "output_type": "stream",
     "text": [
      "1466.8582707477146\n",
      "-966.8582707477146\n",
      "-273087.48073334293\n",
      "0.0\n"
     ]
    }
   ],
   "source": [
    "# (1c)\n",
    "\n",
    "delta_pi1 = delt + delta_c * z\n",
    "print(delta_pi1)\n",
    "x_2 = x - delta_pi1\n",
    "print(x_2)\n",
    "B_2 = B - z*30 + delta_pi1*s\n",
    "print(B_2)\n",
    "#print(delt + z * delta_c - delta_pi1)"
   ]
  },
  {
   "cell_type": "markdown",
   "metadata": {},
   "source": [
    "#### <font color=blue>Problem (1d)</font>"
   ]
  },
  {
   "cell_type": "code",
   "execution_count": 31,
   "metadata": {},
   "outputs": [
    {
     "name": "stdout",
     "output_type": "stream",
     "text": [
      "24859.2638406436\n"
     ]
    }
   ],
   "source": [
    "# (1d)\n",
    "\n",
    "s_new = 24\n",
    "\n",
    "p_new, delta_p_new, gamma_p_new = bs_put(s_new, 25, sig, 1/6, r).values() #1/6 = 2/12 a year = 3-1 = 2 months\n",
    "#print(p_new)\n",
    "\n",
    "# Recalculate the delta-neutral portfolio:\n",
    "\n",
    "newvalue = x_0 * s_new + y * p_new + B_0 * (1 + r) ** (1/12)\n",
    "print(newvalue)\n",
    "#print(value)"
   ]
  },
  {
   "cell_type": "markdown",
   "metadata": {},
   "source": [
    "#### <font color=blue>Problem (1e)</font>\n",
    "$\\Delta_{\\Pi_3} = x' + y \\Delta_{P}$:"
   ]
  },
  {
   "cell_type": "code",
   "execution_count": 32,
   "metadata": {},
   "outputs": [
    {
     "name": "stdout",
     "output_type": "stream",
     "text": [
      "-324.69667925160877\n"
     ]
    }
   ],
   "source": [
    "# (1e)\n",
    "delta_pi3 = x_0 + y*delta_p_new\n",
    "print(delta_pi3)"
   ]
  },
  {
   "cell_type": "markdown",
   "metadata": {},
   "source": [
    "$\\Delta_{\\Pi_3} \\neq 0$, we apply delta-neutral techniques - selling $\\Delta_{\\Pi_3}$ shares of stock:\n",
    "\n",
    "$\\Pi_4 = (x_0 - \\Delta_{\\Pi_3}) S + y P + (B_0 + \\Delta_{\\Pi_3} S) = x_4S + yP + B_4$\n",
    "\n",
    "where $x_4,\\ B_4$ equals to: "
   ]
  },
  {
   "cell_type": "code",
   "execution_count": 33,
   "metadata": {},
   "outputs": [
    {
     "name": "stdout",
     "output_type": "stream",
     "text": [
      "-586.1451299001727\n",
      "40424.11588099702\n"
     ]
    }
   ],
   "source": [
    "x_4 = x_0 - delta_pi3\n",
    "print(x_4)\n",
    "B_4 = B_0 + delta_pi3 * s_new\n",
    "print(B_4)"
   ]
  },
  {
   "cell_type": "markdown",
   "metadata": {},
   "source": [
    "## The Bachelier model"
   ]
  },
  {
   "cell_type": "markdown",
   "metadata": {},
   "source": [
    "### 2. (10 points)\n",
    "\n",
    "Recall that the Bachelier model, assuming zero risk free and dividend rates, reads\n",
    "\n",
    "$$\n",
    "S_t = S_0 + \\sigma W_t\n",
    "$$\n",
    "\n",
    "where $W_t$ is a Brownian motion and $\\sigma$ is a constant. \n",
    "\n",
    "- (a) Show that a call option struck at $K$, expiring at $T$ has the price $c$ at time zero given by \n",
    "\n",
    "    \\begin{align*}\n",
    "    c(K, T) &=& \\E[(S_T - K)^+]\\\\\n",
    "    &=& \\frac{\\sigma\\sqrt T}{\\sqrt{2\\pi}} \\, e^{-\\frac{(S_0 - K)^2}{2\\sigma^2 T}} + (S_0 - K) \\, N\\left(\\frac{S_0 - K}{\\sigma\\sqrt T}\\right).\n",
    "    \\end{align*}\n",
    "\n",
    "- (b) Verify the Dupire's formula, in this case \n",
    "\n",
    "    $$\n",
    "    \\frac{\\sigma^2}{K^2} = \\frac{c_T}{\\frac12 K^2 c_{KK}}\n",
    "    $$\n",
    "\n",
    "    using the call price function $c$ obtained in (a). Note that subindices refer to corresponding partial derivatives. "
   ]
  },
  {
   "cell_type": "markdown",
   "metadata": {},
   "source": [
    "### <font color=blue> Solution 2(a). </font>\n",
    "\n",
    "\n",
    "$$\n",
    "  c\\left(K, T\\right) = \\E\\left[\\left(S_t-K\\right)^+\\right]= \\E [\\left(S_0+\\sigma W_T-K\\right)^+ ].\\textrm{ Here } W_T = \\sqrt{T}Z, \\text{ where } Z \\sim N(0,1)\n",
    "$$\n",
    "Let the p.d.f. of a standard normal distribution be $\\displaystyle f(x)=\\frac{1}{\\sqrt{2\\pi}} e^{-\\frac{x^2}{2}}$, the p.d.f. of $\\sigma W_T$ is $g(x)$, we note that $\\displaystyle g(x) = \\frac{1}{\\sqrt{2\\pi} \\sigma \\sqrt{T}} e^{- \\frac{x^2}{2\\sigma^2 T}}$, $\\displaystyle \\int_{-\\infty}^{x} g(s) \\mathrm d s = N(\\frac x {\\sigma \\sqrt{T}})$. \n"
   ]
  },
  {
   "cell_type": "markdown",
   "metadata": {},
   "source": [
    "\n",
    "$$\n",
    "\\begin{aligned}\n",
    "    c\\left(K, T\\right) = \\E\\left[\\left(S_0+\\sigma W_T-K\\right)^+\\right] &= \\E [ \\left(S_0+\\sigma W_T-K\\right) 1_{\\{\\sigma W_T > K - S_0\\}} ]\\\\\n",
    "    & = \\int_{K-S_0}^{\\infty} (S_0+ x-K) g(x) \\mathrm d x\\\\\n",
    "    & = (S_0 - K)(1 - N) + \\int_{K-S_0}^{\\infty} x g(x) \\mathrm d x\\\\\n",
    "    & = (S_0 - K)(N\\left(\\frac{S_0 - K}{\\sigma \\sqrt{T}}\\right)) + \\int_{K-S_0}^{\\infty} \\frac{x}{\\sqrt{2\\pi} \\sigma \\sqrt{T}} e^{- \\frac{x^2}{2\\sigma^2 T}} \\mathrm d x\\\\\n",
    "    & = (S_0 - K) \\, N\\left(\\frac{S_0 - K}{\\sigma\\sqrt T}\\right) + \\frac{\\sigma\\sqrt T}{\\sqrt{2\\pi}} \\, e^{-\\frac{(S_0 - K)^2}{2\\sigma^2 T}}\n",
    "\n",
    "\\end{aligned}\n",
    "$$"
   ]
  },
  {
   "cell_type": "markdown",
   "metadata": {},
   "source": [
    "### <font color=blue> Solution 2(b). </font>"
   ]
  },
  {
   "cell_type": "markdown",
   "metadata": {},
   "source": [
    "Calculate the partial derivatives of c(T, K):\n",
    "\n",
    "$$\n",
    "    c_T = \\frac{\\partial c}{\\partial T}=\\frac{\\sigma}{2\\sqrt{2\\pi T}}e^{-\\frac{\\left(S_0-K\\right)^2}{2\\sigma^2T}},\\ \\ c_K = \\frac{\\partial c}{\\partial K}=-N\\left(\\frac{S_0-K}{\\sigma\\sqrt{T}}\\right),\\ \\ c_{KK} = \\frac{\\partial^2 c}{\\partial K^2}=\\frac{1}{\\sigma\\sqrt{2\\pi T}}e^{-\\frac{\\left(S_0-K\\right)^2}{2\\sigma^2 T}}\n",
    "$$"
   ]
  },
  {
   "cell_type": "markdown",
   "metadata": {},
   "source": [
    "So \n",
    "$$\n",
    "\\begin{aligned}\n",
    "    \\frac {2c_T}{K^2c_{KK}} = \\frac{\\frac{\\sigma}{2\\sqrt{2\\pi T}}}{K^2\\frac{1}{\\sigma\\sqrt{2\\pi T}}} = \\frac{\\sigma^2}{K^2}\n",
    "\\end{aligned}\n",
    "$$"
   ]
  }
 ],
 "metadata": {
  "celltoolbar": "Slideshow",
  "kernelspec": {
   "display_name": "Python 3 (ipykernel)",
   "language": "python",
   "name": "python3"
  },
  "language_info": {
   "codemirror_mode": {
    "name": "ipython",
    "version": 3
   },
   "file_extension": ".py",
   "mimetype": "text/x-python",
   "name": "python",
   "nbconvert_exporter": "python",
   "pygments_lexer": "ipython3",
   "version": "3.12.4"
  },
  "toc": {
   "base_numbering": 1,
   "nav_menu": {},
   "number_sections": false,
   "sideBar": true,
   "skip_h1_title": false,
   "title_cell": "Table of Contents",
   "title_sidebar": "Contents",
   "toc_cell": false,
   "toc_position": {},
   "toc_section_display": true,
   "toc_window_display": false
  },
  "varInspector": {
   "cols": {
    "lenName": 16,
    "lenType": 16,
    "lenVar": 40
   },
   "kernels_config": {
    "python": {
     "delete_cmd_postfix": "",
     "delete_cmd_prefix": "del ",
     "library": "var_list.py",
     "varRefreshCmd": "print(var_dic_list())"
    },
    "r": {
     "delete_cmd_postfix": ") ",
     "delete_cmd_prefix": "rm(",
     "library": "var_list.r",
     "varRefreshCmd": "cat(var_dic_list()) "
    }
   },
   "types_to_exclude": [
    "module",
    "function",
    "builtin_function_or_method",
    "instance",
    "_Feature"
   ],
   "window_display": false
  }
 },
 "nbformat": 4,
 "nbformat_minor": 1
}
